{
  "nbformat": 4,
  "nbformat_minor": 0,
  "metadata": {
    "colab": {
      "name": "Car Loan",
      "provenance": []
    },
    "kernelspec": {
      "name": "python3",
      "display_name": "Python 3"
    }
  },
  "cells": [
    {
      "cell_type": "code",
      "metadata": {
        "id": "1xDzIL_JwgSv"
      },
      "source": [
        "\"\"\"\n",
        "Created on Wed Oct 16 11:59:01 2019\n",
        "\n",
        "@author: arvysanico\n",
        "\"\"\"\n",
        "p=int(input(\"Enter the price of the car: $\"))\n",
        "d=int(input(\"Enter your down payment for the car: $\"))\n",
        "m=int(input(\"Enter the amount of months your financing for the car: \"))\n",
        "cs=int(input(\"Enter your credit score: \"))\n",
        "p1=p-d\n",
        "f= open('file.txt', 'w')\n",
        "if cs>=850:\n",
        "    apr=0.030\n",
        "    f.write(\"Your interest rate is 3.0%\")\n",
        "elif cs>=800:\n",
        "    apr=0.035\n",
        "    f.write(\"Your interest rate is 3.5%\")\n",
        "elif cs>=750:\n",
        "    apr=0.040\n",
        "    f.write(\"Your interest rate is 4.0%\")\n",
        "elif cs>=700:\n",
        "    apr=0.045\n",
        "    f.write(\"Your interest rate is 4.5%\")\n",
        "else:\n",
        "    apr=0.05\n",
        "    f.write(\"Your interest rate is 5.0%\")\n",
        "r=apr/12\n",
        "mp= p1*(r*((1+r)**(m)))/((1+r)**(m)-1) #EMI FORMULA\n",
        "f.write(\"The car costs ${} \\n\".format(p))\n",
        "f.write(\"Your loan amount ${} \\n\".format(p1))\n",
        "f.write(\"While your credit score is {} \\n\".format(cs))\n",
        "f.write(\"And your loan period (in months) is {} \\n\".format(m))\n",
        "f.write(\"Your monthly payment will be ${0:.2f} \\n\" .format(mp))\n",
        "f.close()\n"
      ],
      "execution_count": null,
      "outputs": []
    }
  ]
}